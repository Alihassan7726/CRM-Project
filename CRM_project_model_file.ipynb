{
  "nbformat": 4,
  "nbformat_minor": 0,
  "metadata": {
    "colab": {
      "name": "CRM project model file.ipynb",
      "provenance": [],
      "collapsed_sections": []
    },
    "kernelspec": {
      "name": "python3",
      "display_name": "Python 3"
    },
    "language_info": {
      "name": "python"
    },
    "accelerator": "GPU"
  },
  "cells": [
    {
      "cell_type": "markdown",
      "metadata": {
        "id": "TfW_7BVM6wiS"
      },
      "source": [
        "# Table of contents:\n",
        "- **[Step 1]()**: Setting up TensorFlow and Colab Runtime\n",
        "- **[Step 2]()**: Installing tensorflow Model garden pakage and other required dependencies \n",
        "- **[Step 3]()**: Importing libraires and data loading\n",
        "- **[Step 4]()**: Splitting the data\n",
        "- **[Step 5]()**: Defining a tensorflow model for text preprocessing as per BERT requirements . \n",
        "- **[Step 6]()**: Creating a Tensorflow input pipeline using `tf.data` API\n",
        "- **[Step 7]()**: Functions for applying the preprocessing model on entire dataset using `.map` method  \n",
        "- **[Step 8]()**: Creating input preprocessed input pipelines for both Train and Val sets \n",
        "- **[Step 9]()**: Adding a Classification Head to the BERT `hub.KerasLayer` \n",
        "- **[Step 10]()**: Fine-Tuning BERT for sentence pairs Classification \n",
        "- **[Step 11]()**: Evaluating Model performance visually\n",
        "- **[Step 12]()**: Exporting Model for Inference\n",
        "- **[Step 13]()**: Testing our BERT Model"
      ]
    },
    {
      "cell_type": "markdown",
      "metadata": {
        "id": "KjWMTkiC6y9-"
      },
      "source": [
        "### Step 1: Setting up TensorFlow and Colab Runtime"
      ]
    },
    {
      "cell_type": "code",
      "metadata": {
        "id": "3LbfEunHt7J1"
      },
      "source": [
        "# Configuration for GPU in order to avoid some errors when fitting the data\n",
        "import tensorflow as tf\n",
        "configuration = tf.compat.v1.ConfigProto()\n",
        "configuration.gpu_options.allow_growth = True\n",
        "session = tf.compat.v1.Session(config=configuration)\n"
      ],
      "execution_count": null,
      "outputs": []
    },
    {
      "cell_type": "code",
      "metadata": {
        "colab": {
          "base_uri": "https://localhost:8080/"
        },
        "id": "wS-2l80eE7nJ",
        "outputId": "941225df-563c-47c4-d82e-dae0514928f3"
      },
      "source": [
        "print(\"GPU is\", \"available\" if tf.config.experimental.list_physical_devices(\"GPU\") else \"NOT AVAILABLE\")\n",
        "!nvidia-smi"
      ],
      "execution_count": null,
      "outputs": [
        {
          "output_type": "stream",
          "text": [
            "GPU is available\n",
            "Tue Jul  6 05:23:31 2021       \n",
            "+-----------------------------------------------------------------------------+\n",
            "| NVIDIA-SMI 465.27       Driver Version: 460.32.03    CUDA Version: 11.2     |\n",
            "|-------------------------------+----------------------+----------------------+\n",
            "| GPU  Name        Persistence-M| Bus-Id        Disp.A | Volatile Uncorr. ECC |\n",
            "| Fan  Temp  Perf  Pwr:Usage/Cap|         Memory-Usage | GPU-Util  Compute M. |\n",
            "|                               |                      |               MIG M. |\n",
            "|===============================+======================+======================|\n",
            "|   0  Tesla T4            Off  | 00000000:00:04.0 Off |                    0 |\n",
            "| N/A   71C    P0    32W /  70W |    222MiB / 15109MiB |      0%      Default |\n",
            "|                               |                      |                  N/A |\n",
            "+-------------------------------+----------------------+----------------------+\n",
            "                                                                               \n",
            "+-----------------------------------------------------------------------------+\n",
            "| Processes:                                                                  |\n",
            "|  GPU   GI   CI        PID   Type   Process name                  GPU Memory |\n",
            "|        ID   ID                                                   Usage      |\n",
            "|=============================================================================|\n",
            "+-----------------------------------------------------------------------------+\n"
          ],
          "name": "stdout"
        }
      ]
    },
    {
      "cell_type": "markdown",
      "metadata": {
        "id": "rtUJPXqU7CIn"
      },
      "source": [
        "### Step 3: Installing tensorflow Model garden pakage and other required dependencies "
      ]
    },
    {
      "cell_type": "code",
      "metadata": {
        "id": "zJlorJtaFHUd"
      },
      "source": [
        "pip install -q -U tensorflow-text\n"
      ],
      "execution_count": null,
      "outputs": []
    },
    {
      "cell_type": "code",
      "metadata": {
        "id": "m516_4ePFQZf"
      },
      "source": [
        "!pip install -q tf-models-official\n"
      ],
      "execution_count": null,
      "outputs": []
    },
    {
      "cell_type": "code",
      "metadata": {
        "colab": {
          "base_uri": "https://localhost:8080/"
        },
        "id": "uvpqKLMhFTO9",
        "outputId": "7151adcb-3256-4941-9277-28067a95fa66"
      },
      "source": [
        "pip install -U tfds-nightly\n"
      ],
      "execution_count": null,
      "outputs": [
        {
          "output_type": "stream",
          "text": [
            "Requirement already up-to-date: tfds-nightly in /usr/local/lib/python3.7/dist-packages (4.3.0.dev202107050107)\n",
            "Requirement already satisfied, skipping upgrade: requests>=2.19.0 in /usr/local/lib/python3.7/dist-packages (from tfds-nightly) (2.23.0)\n",
            "Requirement already satisfied, skipping upgrade: absl-py in /usr/local/lib/python3.7/dist-packages (from tfds-nightly) (0.12.0)\n",
            "Requirement already satisfied, skipping upgrade: tqdm in /usr/local/lib/python3.7/dist-packages (from tfds-nightly) (4.41.1)\n",
            "Requirement already satisfied, skipping upgrade: numpy in /usr/local/lib/python3.7/dist-packages (from tfds-nightly) (1.19.5)\n",
            "Requirement already satisfied, skipping upgrade: promise in /usr/local/lib/python3.7/dist-packages (from tfds-nightly) (2.3)\n",
            "Requirement already satisfied, skipping upgrade: tensorflow-metadata in /usr/local/lib/python3.7/dist-packages (from tfds-nightly) (1.0.0)\n",
            "Requirement already satisfied, skipping upgrade: future in /usr/local/lib/python3.7/dist-packages (from tfds-nightly) (0.16.0)\n",
            "Requirement already satisfied, skipping upgrade: six in /usr/local/lib/python3.7/dist-packages (from tfds-nightly) (1.15.0)\n",
            "Requirement already satisfied, skipping upgrade: typing-extensions; python_version < \"3.8\" in /usr/local/lib/python3.7/dist-packages (from tfds-nightly) (3.7.4.3)\n",
            "Requirement already satisfied, skipping upgrade: attrs>=18.1.0 in /usr/local/lib/python3.7/dist-packages (from tfds-nightly) (21.2.0)\n",
            "Requirement already satisfied, skipping upgrade: protobuf>=3.12.2 in /usr/local/lib/python3.7/dist-packages (from tfds-nightly) (3.12.4)\n",
            "Requirement already satisfied, skipping upgrade: dill in /usr/local/lib/python3.7/dist-packages (from tfds-nightly) (0.3.4)\n",
            "Requirement already satisfied, skipping upgrade: importlib-resources; python_version < \"3.9\" in /usr/local/lib/python3.7/dist-packages (from tfds-nightly) (5.1.4)\n",
            "Requirement already satisfied, skipping upgrade: termcolor in /usr/local/lib/python3.7/dist-packages (from tfds-nightly) (1.1.0)\n",
            "Requirement already satisfied, skipping upgrade: urllib3!=1.25.0,!=1.25.1,<1.26,>=1.21.1 in /usr/local/lib/python3.7/dist-packages (from requests>=2.19.0->tfds-nightly) (1.24.3)\n",
            "Requirement already satisfied, skipping upgrade: certifi>=2017.4.17 in /usr/local/lib/python3.7/dist-packages (from requests>=2.19.0->tfds-nightly) (2021.5.30)\n",
            "Requirement already satisfied, skipping upgrade: chardet<4,>=3.0.2 in /usr/local/lib/python3.7/dist-packages (from requests>=2.19.0->tfds-nightly) (3.0.4)\n",
            "Requirement already satisfied, skipping upgrade: idna<3,>=2.5 in /usr/local/lib/python3.7/dist-packages (from requests>=2.19.0->tfds-nightly) (2.10)\n",
            "Requirement already satisfied, skipping upgrade: googleapis-common-protos<2,>=1.52.0 in /usr/local/lib/python3.7/dist-packages (from tensorflow-metadata->tfds-nightly) (1.53.0)\n",
            "Requirement already satisfied, skipping upgrade: setuptools in /usr/local/lib/python3.7/dist-packages (from protobuf>=3.12.2->tfds-nightly) (57.0.0)\n",
            "Requirement already satisfied, skipping upgrade: zipp>=3.1.0; python_version < \"3.10\" in /usr/local/lib/python3.7/dist-packages (from importlib-resources; python_version < \"3.9\"->tfds-nightly) (3.4.1)\n"
          ],
          "name": "stdout"
        }
      ]
    },
    {
      "cell_type": "markdown",
      "metadata": {
        "id": "0aLyEbTE7HXY"
      },
      "source": [
        "### Step 3: Importing libraires and data loading "
      ]
    },
    {
      "cell_type": "code",
      "metadata": {
        "id": "0ohHe42aFmD-"
      },
      "source": [
        "import datetime\n",
        "import pickle\n",
        "import pandas as pd\n",
        "\n",
        "pd.set_option(\"max_columns\",100)\n",
        "pd.set_option('display.width',1000)\n",
        "pd.set_option('max_colwidth', 1000) \n",
        "import warnings \n",
        "warnings.filterwarnings('ignore')\n",
        "import os\n",
        "\n",
        "import numpy as np\n",
        "import matplotlib.pyplot as plt\n"
      ],
      "execution_count": null,
      "outputs": []
    },
    {
      "cell_type": "code",
      "metadata": {
        "id": "LLF9kQDqFYVK"
      },
      "source": [
        "import tensorflow as tf\n",
        "import tensorflow_hub as hub\n",
        "import tensorflow_datasets as tfds\n",
        "tfds.disable_progress_bar()\n",
        "\n",
        "from official.modeling import tf_utils\n",
        "from official import nlp\n",
        "from official.nlp import bert\n",
        "\n",
        "# Loading the required submodules\n",
        "import official.nlp.optimization\n",
        "from official.nlp import optimization  # to create AdamW optimizer\n",
        "import official.nlp.bert.bert_models\n",
        "import official.nlp.bert.configs\n",
        "import official.nlp.bert.run_classifier\n",
        "from official.nlp.bert import tokenization\n",
        "import official.nlp.data.classifier_data_lib\n",
        "import official.nlp.modeling.losses\n",
        "import official.nlp.modeling.models\n",
        "import official.nlp.modeling.networks\n",
        "tf.get_logger().setLevel('ERROR')\n"
      ],
      "execution_count": null,
      "outputs": []
    },
    {
      "cell_type": "code",
      "metadata": {
        "colab": {
          "base_uri": "https://localhost:8080/"
        },
        "id": "mJZiHwkzGJi5",
        "outputId": "88450ede-62e9-4bab-8653-3da74295d274"
      },
      "source": [
        "print(\"Eager mode: \", tf.executing_eagerly())\n",
        "print(\"Hub version: \", hub.__version__)\n",
        "print(\"Tensorflow version: \", tf.version.VERSION)"
      ],
      "execution_count": null,
      "outputs": [
        {
          "output_type": "stream",
          "text": [
            "Eager mode:  True\n",
            "Hub version:  0.12.0\n",
            "Tensorflow version:  2.5.0\n"
          ],
          "name": "stdout"
        }
      ]
    },
    {
      "cell_type": "code",
      "metadata": {
        "colab": {
          "base_uri": "https://localhost:8080/"
        },
        "id": "ujP8VeXRGsXf",
        "outputId": "34218a12-df14-4ad9-a7a4-e7214c4dd9fe"
      },
      "source": [
        "from google.colab import drive\n",
        "drive.mount('gdrive')"
      ],
      "execution_count": null,
      "outputs": [
        {
          "output_type": "stream",
          "text": [
            "Mounted at gdrive\n"
          ],
          "name": "stdout"
        }
      ]
    },
    {
      "cell_type": "code",
      "metadata": {
        "colab": {
          "base_uri": "https://localhost:8080/"
        },
        "id": "TfhYDrriG6Dg",
        "outputId": "cef19413-86b1-4456-df47-40f27b9c6dd4"
      },
      "source": [
        "%cd /content/gdrive/MyDrive/Colab DataSets/"
      ],
      "execution_count": null,
      "outputs": [
        {
          "output_type": "stream",
          "text": [
            "/content/gdrive/MyDrive/Colab DataSets\n"
          ],
          "name": "stdout"
        }
      ]
    },
    {
      "cell_type": "code",
      "metadata": {
        "colab": {
          "base_uri": "https://localhost:8080/"
        },
        "collapsed": true,
        "id": "cNebz5BRHd7h",
        "outputId": "607c0b9b-73b4-4122-d188-8064c10bf1ae"
      },
      "source": [
        "pip install pickle5"
      ],
      "execution_count": null,
      "outputs": [
        {
          "output_type": "stream",
          "text": [
            "Collecting pickle5\n",
            "\u001b[?25l  Downloading https://files.pythonhosted.org/packages/f7/4c/5c4dd0462c8d3a6bc4af500a6af240763c2ebd1efdc736fc2c946d44b70a/pickle5-0.0.11.tar.gz (132kB)\n",
            "\r\u001b[K     |██▌                             | 10kB 25.6MB/s eta 0:00:01\r\u001b[K     |█████                           | 20kB 32.7MB/s eta 0:00:01\r\u001b[K     |███████▍                        | 30kB 35.9MB/s eta 0:00:01\r\u001b[K     |██████████                      | 40kB 37.9MB/s eta 0:00:01\r\u001b[K     |████████████▍                   | 51kB 36.5MB/s eta 0:00:01\r\u001b[K     |██████████████▉                 | 61kB 36.4MB/s eta 0:00:01\r\u001b[K     |█████████████████▍              | 71kB 32.0MB/s eta 0:00:01\r\u001b[K     |███████████████████▉            | 81kB 33.0MB/s eta 0:00:01\r\u001b[K     |██████████████████████▎         | 92kB 33.0MB/s eta 0:00:01\r\u001b[K     |████████████████████████▉       | 102kB 33.4MB/s eta 0:00:01\r\u001b[K     |███████████████████████████▎    | 112kB 33.4MB/s eta 0:00:01\r\u001b[K     |█████████████████████████████▊  | 122kB 33.4MB/s eta 0:00:01\r\u001b[K     |████████████████████████████████| 133kB 33.4MB/s \n",
            "\u001b[?25hBuilding wheels for collected packages: pickle5\n",
            "  Building wheel for pickle5 (setup.py) ... \u001b[?25l\u001b[?25hdone\n",
            "  Created wheel for pickle5: filename=pickle5-0.0.11-cp37-cp37m-linux_x86_64.whl size=219253 sha256=3477c06237eb4b612a7a8da3a712ffb75b340cdd010fa8ea88e60e317d8b915a\n",
            "  Stored in directory: /root/.cache/pip/wheels/a6/90/95/f889ca4aa8b0e0c7f21c8470b6f5d6032f0390a3a141a9a3bd\n",
            "Successfully built pickle5\n",
            "Installing collected packages: pickle5\n",
            "Successfully installed pickle5-0.0.11\n"
          ],
          "name": "stdout"
        }
      ]
    },
    {
      "cell_type": "code",
      "metadata": {
        "colab": {
          "base_uri": "https://localhost:8080/",
          "height": 221
        },
        "id": "-DeaYs0HHLsz",
        "outputId": "e816a22f-b95e-4bb1-f542-23c3c9d1b1ad"
      },
      "source": [
        "import pickle5\n",
        "\n",
        "config = pickle5.load(open(f\"/content/gdrive/MyDrive/Colab DataSets/clean_data.pkl\", \"rb\"))\n",
        "print(type(config))\n",
        "\n",
        "df = config.copy(deep = True)\n",
        "del(config)\n",
        "df.drop(columns= 'Lead Name' , inplace=True)\n",
        "df.drop(columns= 'Location' , inplace=True)\n",
        "df.drop(columns= 'Status information' , inplace=True)\n",
        "df.head()"
      ],
      "execution_count": null,
      "outputs": [
        {
          "output_type": "stream",
          "text": [
            "<class 'pandas.core.frame.DataFrame'>\n"
          ],
          "name": "stdout"
        },
        {
          "output_type": "execute_result",
          "data": {
            "text/html": [
              "<div>\n",
              "<style scoped>\n",
              "    .dataframe tbody tr th:only-of-type {\n",
              "        vertical-align: middle;\n",
              "    }\n",
              "\n",
              "    .dataframe tbody tr th {\n",
              "        vertical-align: top;\n",
              "    }\n",
              "\n",
              "    .dataframe thead th {\n",
              "        text-align: right;\n",
              "    }\n",
              "</style>\n",
              "<table border=\"1\" class=\"dataframe\">\n",
              "  <thead>\n",
              "    <tr style=\"text-align: right;\">\n",
              "      <th></th>\n",
              "      <th>Status</th>\n",
              "      <th>Clean_text</th>\n",
              "    </tr>\n",
              "  </thead>\n",
              "  <tbody>\n",
              "    <tr>\n",
              "      <th>0</th>\n",
              "      <td>0</td>\n",
              "      <td>prema share I detail available eng prema postpone plan train currently prema not interested now</td>\n",
              "    </tr>\n",
              "    <tr>\n",
              "      <th>1</th>\n",
              "      <td>0</td>\n",
              "      <td>prema cal I try share detail email prema share detail email will check i revert prema receive email I look as certification</td>\n",
              "    </tr>\n",
              "    <tr>\n",
              "      <th>2</th>\n",
              "      <td>1</td>\n",
              "      <td>aug mohan rne</td>\n",
              "    </tr>\n",
              "    <tr>\n",
              "      <th>3</th>\n",
              "      <td>0</td>\n",
              "      <td>surendra I want server aug mohan cal busy aug mohan reg server</td>\n",
              "    </tr>\n",
              "    <tr>\n",
              "      <th>4</th>\n",
              "      <td>0</td>\n",
              "      <td>prema rne prema give info he say he will revert he prema plan next month share detail</td>\n",
              "    </tr>\n",
              "  </tbody>\n",
              "</table>\n",
              "</div>"
            ],
            "text/plain": [
              "   Status                                                                                                                    Clean_text\n",
              "0        0                              prema share I detail available eng prema postpone plan train currently prema not interested now\n",
              "1        0  prema cal I try share detail email prema share detail email will check i revert prema receive email I look as certification\n",
              "2        1                                                                                                                aug mohan rne\n",
              "3        0                                                               surendra I want server aug mohan cal busy aug mohan reg server\n",
              "4        0                                        prema rne prema give info he say he will revert he prema plan next month share detail"
            ]
          },
          "metadata": {
            "tags": []
          },
          "execution_count": 10
        }
      ]
    },
    {
      "cell_type": "code",
      "metadata": {
        "colab": {
          "base_uri": "https://localhost:8080/"
        },
        "id": "smf-PDS5HaxZ",
        "outputId": "fa4828ca-2a75-4a5e-fa6a-8f4562afd3f9"
      },
      "source": [
        "df.info()"
      ],
      "execution_count": null,
      "outputs": [
        {
          "output_type": "stream",
          "text": [
            "<class 'pandas.core.frame.DataFrame'>\n",
            "Int64Index: 956 entries, 0 to 1000\n",
            "Data columns (total 2 columns):\n",
            " #   Column      Non-Null Count  Dtype \n",
            "---  ------      --------------  ----- \n",
            " 0   Status      956 non-null    int64 \n",
            " 1   Clean_text  956 non-null    object\n",
            "dtypes: int64(1), object(1)\n",
            "memory usage: 22.4+ KB\n"
          ],
          "name": "stdout"
        }
      ]
    },
    {
      "cell_type": "code",
      "metadata": {
        "colab": {
          "base_uri": "https://localhost:8080/"
        },
        "id": "UzIzioY2HoBF",
        "outputId": "52fdebf8-7ec9-4d11-a3e4-868fabb6ba19"
      },
      "source": [
        "df['Status '].value_counts() "
      ],
      "execution_count": null,
      "outputs": [
        {
          "output_type": "execute_result",
          "data": {
            "text/plain": [
              "0    829\n",
              "1    127\n",
              "Name: Status , dtype: int64"
            ]
          },
          "metadata": {
            "tags": []
          },
          "execution_count": 12
        }
      ]
    },
    {
      "cell_type": "code",
      "metadata": {
        "colab": {
          "base_uri": "https://localhost:8080/",
          "height": 265
        },
        "id": "pOcUKF0nPaDA",
        "outputId": "de00b978-fd6c-46b4-c7d0-d384883e452b"
      },
      "source": [
        "df['Status '].value_counts().plot(kind='pie')"
      ],
      "execution_count": null,
      "outputs": [
        {
          "output_type": "execute_result",
          "data": {
            "text/plain": [
              "<matplotlib.axes._subplots.AxesSubplot at 0x7f7c2ea67c50>"
            ]
          },
          "metadata": {
            "tags": []
          },
          "execution_count": 13
        },
        {
          "output_type": "display_data",
          "data": {
            "image/png": "[encoded data removed]",
            "text/plain": [
              "<Figure size 432x288 with 1 Axes>"
            ]
          },
          "metadata": {
            "tags": []
          }
        }
      ]
    },
    {
      "cell_type": "markdown",
      "metadata": {
        "id": "7HSF1eM47ToT"
      },
      "source": [
        "### Step 4: Splitting the data"
      ]
    },
    {
      "cell_type": "code",
      "metadata": {
        "colab": {
          "base_uri": "https://localhost:8080/"
        },
        "id": "lMmNnvpEHu0m",
        "outputId": "ba63e9e9-eb18-4a6f-8a79-1985ebede2ab"
      },
      "source": [
        "from sklearn.model_selection import train_test_split\n",
        "\n",
        "train_df , test_df = train_test_split(df, random_state = 42 , train_size = 0.9 , stratify = df['Status '].values )\n",
        "\n",
        "train_df.shape , test_df.shape"
      ],
      "execution_count": null,
      "outputs": [
        {
          "output_type": "execute_result",
          "data": {
            "text/plain": [
              "((860, 2), (96, 2))"
            ]
          },
          "metadata": {
            "tags": []
          },
          "execution_count": 14
        }
      ]
    },
    {
      "cell_type": "code",
      "metadata": {
        "colab": {
          "base_uri": "https://localhost:8080/"
        },
        "id": "99WMBcwUI1Az",
        "outputId": "e6c4c5ab-533a-401f-abf9-64c4b4043639"
      },
      "source": [
        "print(\"Train data distribution : \", train_df['Status '].value_counts().tolist(),\"\\n\")\n",
        "print(\"Test data distribution : \", test_df['Status '].value_counts().tolist())"
      ],
      "execution_count": null,
      "outputs": [
        {
          "output_type": "stream",
          "text": [
            "Train data distribution :  [746, 114] \n",
            "\n",
            "Test data distribution :  [83, 13]\n"
          ],
          "name": "stdout"
        }
      ]
    },
    {
      "cell_type": "code",
      "metadata": {
        "colab": {
          "base_uri": "https://localhost:8080/"
        },
        "id": "BwYwxbYnJpVp",
        "outputId": "032f025e-24f2-4362-f861-8432f0b9c39f"
      },
      "source": [
        "train_size = train_df.shape[0]\n",
        "test_size = test_df.shape[0]\n",
        "\n",
        "print(train_size, test_size)"
      ],
      "execution_count": null,
      "outputs": [
        {
          "output_type": "stream",
          "text": [
            "860 96\n"
          ],
          "name": "stdout"
        }
      ]
    },
    {
      "cell_type": "code",
      "metadata": {
        "colab": {
          "base_uri": "https://localhost:8080/"
        },
        "id": "3d3Y5zSmP0uC",
        "outputId": "71a47b6f-c766-4325-8fb1-c701e39eda48"
      },
      "source": [
        "# Cheking the max/min/average source sequence length\n",
        "source_length_list=[]\n",
        "for source in df['Clean_text']:\n",
        "  source_length_list.append(len(source.split(' ')))\n",
        "max_seq_length = max(source_length_list)\n",
        "min_seq_length = min(source_length_list)\n",
        "avg_seq_lenght = np.average(source_length_list)\n",
        "print(\" Maximum source length \" , max_seq_length)\n",
        "print(\" Minimum source length \" , min_seq_length)\n",
        "print(\" Average source length \" , avg_seq_lenght)"
      ],
      "execution_count": null,
      "outputs": [
        {
          "output_type": "stream",
          "text": [
            " Maximum source length  98\n",
            " Minimum source length  2\n",
            " Average source length  18.074267782426777\n"
          ],
          "name": "stdout"
        }
      ]
    },
    {
      "cell_type": "markdown",
      "metadata": {
        "id": "djtKQApz7cr1"
      },
      "source": [
        "### Step 5: Defining a tensorflow model for text preprocessing as per BERT requirements . "
      ]
    },
    {
      "cell_type": "code",
      "metadata": {
        "id": "0TI6_PYsVXNB"
      },
      "source": [
        "def make_bert_preprocess_model(sentence_feature):\n",
        "  \"\"\"Returns Model mapping string features to BERT inputs.\n",
        "\n",
        "  Args:\n",
        "    sentence_feature: a list with the name of string-valued feature.\n",
        "    seq_length: an integer that defines the sequence length of BERT inputs.\n",
        "\n",
        "  Returns:\n",
        "    A Keras Model that can be called on a list of string Tensor\n",
        "    (with the order or name, resp., given by sentence_feature) and\n",
        "    returns a dict of tensors for input to BERT.\n",
        "  \"\"\"\n",
        "\n",
        "  \n",
        "  input_segment = tf.keras.layers.Input(shape=(), dtype=tf.string , name = sentence_feature)\n",
        "\n",
        "  preprocessor = \"https://tfhub.dev/tensorflow/bert_en_uncased_preprocess/3\"\n",
        "  \n",
        "  # Tokenizing raw text to BERT input features.\n",
        "  bert_preprocess = hub.load(preprocessor)\n",
        "  preprocessor = hub.KerasLayer(bert_preprocess, name='tokenizer')\n",
        "  encoder_inputs = preprocessor(input_segment)\n",
        "  \n",
        "  return tf.keras.Model(input_segment, encoder_inputs)\n"
      ],
      "execution_count": null,
      "outputs": []
    },
    {
      "cell_type": "code",
      "metadata": {
        "id": "nTlWZyQpXpYm",
        "colab": {
          "base_uri": "https://localhost:8080/",
          "height": 174
        },
        "outputId": "dcc1cefc-eca1-4d24-f144-2947fc394691"
      },
      "source": [
        "test_preprocess_model = make_bert_preprocess_model(str('my_input1'))\n",
        "tf.keras.utils.plot_model(test_preprocess_model)\n"
      ],
      "execution_count": null,
      "outputs": [
        {
          "output_type": "execute_result",
          "data": {
            "image/png": "[encoded data removed]",
            "text/plain": [
              "<IPython.core.display.Image object>"
            ]
          },
          "metadata": {
            "tags": []
          },
          "execution_count": 19
        }
      ]
    },
    {
      "cell_type": "code",
      "metadata": {
        "colab": {
          "base_uri": "https://localhost:8080/"
        },
        "id": "v8I2vsm1WwX2",
        "outputId": "b589539d-7f8b-47f8-c9a4-7850d899a862"
      },
      "source": [
        "test_text = [np.array(['Range Rover is my favourite car'])]\n",
        "text_preprocessed = test_preprocess_model(test_text)\n",
        "\n",
        "print('Type of output : ', type(text_preprocessed))\n",
        "print('Keys           : ', list(text_preprocessed.keys()))\n",
        "print('Shape Word Ids : ', text_preprocessed['input_word_ids'].shape)\n",
        "print('Word Ids       : ', text_preprocessed['input_word_ids'][0, :16])\n",
        "print('Shape Mask     : ', text_preprocessed['input_mask'].shape)\n",
        "print('Input Mask     : ', text_preprocessed['input_mask'][0, :16])\n",
        "print('Shape Type Ids : ', text_preprocessed['input_type_ids'].shape)\n",
        "print('Type Ids       : ', text_preprocessed['input_type_ids'][0, :16])"
      ],
      "execution_count": null,
      "outputs": [
        {
          "output_type": "stream",
          "text": [
            "Type of output :  <class 'dict'>\n",
            "Keys           :  ['input_word_ids', 'input_mask', 'input_type_ids']\n",
            "Shape Word Ids :  (1, 128)\n",
            "Word Ids       :  tf.Tensor(\n",
            "[  101  2846 13631  2003  2026  8837  2482   102     0     0     0     0\n",
            "     0     0     0     0], shape=(16,), dtype=int32)\n",
            "Shape Mask     :  (1, 128)\n",
            "Input Mask     :  tf.Tensor([1 1 1 1 1 1 1 1 0 0 0 0 0 0 0 0], shape=(16,), dtype=int32)\n",
            "Shape Type Ids :  (1, 128)\n",
            "Type Ids       :  tf.Tensor([0 0 0 0 0 0 0 0 0 0 0 0 0 0 0 0], shape=(16,), dtype=int32)\n"
          ],
          "name": "stdout"
        }
      ]
    },
    {
      "cell_type": "markdown",
      "metadata": {
        "id": "3Bm1YL5t8B-N"
      },
      "source": [
        "### Step 6: Creating a Tensorflow input pipeline using `tf.data` API"
      ]
    },
    {
      "cell_type": "code",
      "metadata": {
        "colab": {
          "base_uri": "https://localhost:8080/"
        },
        "id": "GkQLXd60JrJl",
        "outputId": "2e3b7d19-af43-4389-f865-5ed2a50d62b9"
      },
      "source": [
        "# Creating input pipeline on CPU to use GPU efficiently \n",
        "\n",
        "with tf.device('/cpu:0'):\n",
        "  \n",
        "  train_data = tf.data.Dataset.from_tensor_slices((train_df['Clean_text'].values, train_df['Status '].values ))\n",
        "  test_data = tf.data.Dataset.from_tensor_slices((test_df['Clean_text'],  test_df['Status '].values ))\n",
        "\n",
        "  for text, label in train_data.take(1):\n",
        "    print(text)\n",
        "    print(label)"
      ],
      "execution_count": null,
      "outputs": [
        {
          "output_type": "stream",
          "text": [
            "tf.Tensor(b'may mohan mail send', shape=(), dtype=string)\n",
            "tf.Tensor(0, shape=(), dtype=int64)\n"
          ],
          "name": "stdout"
        }
      ]
    },
    {
      "cell_type": "markdown",
      "metadata": {
        "id": "DgON-rJi8Xjv"
      },
      "source": [
        "### Step 7: Functions for applying the preprocessing model on entire dataset using `.map` method . "
      ]
    },
    {
      "cell_type": "code",
      "metadata": {
        "id": "O8hk7PnTAN_U"
      },
      "source": [
        "AUTOTUNE = tf.data.experimental.AUTOTUNE\n",
        "\n",
        "\"\"\" Here we will pass each inidividual Dataset like train_data, test_data to function \"load_dataset\"\n",
        "    that applies the above TF preprocessing model on the provided inputs by further applying a wrapper function (bert_preprocess_model) and \n",
        "    returns the Data ready for BERT input \"\"\"\n",
        "     \n",
        "\n",
        "def bert_preprocess_model(text , label):\n",
        "  \"\"\"\n",
        "  Wrapper function\n",
        "  \"\"\"\n",
        "  # Initializing Preprocessing model to only accept text field as inputs\n",
        "  sentence_feature = str('Clean_text')\n",
        "  preprocessor = make_bert_preprocess_model(sentence_feature)\n",
        "  bert_inputs =  preprocessor(text)\n",
        "  return(bert_inputs, label)\n",
        "\n",
        "\n",
        "\n",
        "def load_dataset(data_set, batch_size, flag, size,\n",
        "                ):\n",
        "  is_training = flag\n",
        "  dataset = data_set\n",
        "  num_examples = size\n",
        "  if is_training:\n",
        "    dataset = dataset.shuffle(num_examples)\n",
        "    dataset = dataset.repeat()\n",
        "  dataset = dataset.batch(batch_size)\n",
        "  dataset = dataset.map(bert_preprocess_model,  num_parallel_calls = AUTOTUNE)\n",
        "  dataset = dataset.cache().prefetch(buffer_size=AUTOTUNE)\n",
        "  return dataset, num_examples\n",
        "\n",
        "  "
      ],
      "execution_count": null,
      "outputs": []
    },
    {
      "cell_type": "markdown",
      "metadata": {
        "id": "Fw72qoFl8zc_"
      },
      "source": [
        "### Step 8: Creating input preprocessed input pipelines for both Train and Val sets . "
      ]
    },
    {
      "cell_type": "code",
      "metadata": {
        "colab": {
          "base_uri": "https://localhost:8080/"
        },
        "id": "Vrtw1jAxBMwm",
        "outputId": "e7e7dba2-4b7a-43d5-c9f8-f66f8cc369c4"
      },
      "source": [
        "epochs = 4\n",
        "batch_size = 32\n",
        "init_lr = 5e-5\n",
        "\n",
        "print(f'Creating Data for BERT')\n",
        "\n",
        "# Running everything on CPU\n",
        "with tf.device('/cpu:0'):\n",
        "  # Train_data\n",
        "  train_data, train_data_size = load_dataset( train_data, batch_size, True, train_size )\n",
        "  steps_per_epoch = train_data_size // batch_size\n",
        "  num_train_steps = steps_per_epoch * epochs\n",
        "  num_warmup_steps = num_train_steps // 10\n",
        "\n",
        "  # Test data\n",
        "  valid_data, no_of_valid_examples = load_dataset( test_data, batch_size, False, test_size,)\n",
        "  \n",
        "print(\"Training data size: \",train_data_size)\n",
        "print(\"Validation data size: \",no_of_valid_examples)\n"
      ],
      "execution_count": null,
      "outputs": [
        {
          "output_type": "stream",
          "text": [
            "Creating Data for BERT\n",
            "Training data size:  860\n",
            "Validation data size:  96\n"
          ],
          "name": "stdout"
        }
      ]
    },
    {
      "cell_type": "code",
      "metadata": {
        "colab": {
          "base_uri": "https://localhost:8080/"
        },
        "id": "3c7WVSEfCDAD",
        "outputId": "e03d0246-45ec-4e40-f203-51c2d43bb82a"
      },
      "source": [
        "# train data spec\n",
        "train_data.element_spec"
      ],
      "execution_count": null,
      "outputs": [
        {
          "output_type": "execute_result",
          "data": {
            "text/plain": [
              "({'input_mask': TensorSpec(shape=(None, 128), dtype=tf.int32, name=None),\n",
              "  'input_type_ids': TensorSpec(shape=(None, 128), dtype=tf.int32, name=None),\n",
              "  'input_word_ids': TensorSpec(shape=(None, 128), dtype=tf.int32, name=None)},\n",
              " TensorSpec(shape=(None,), dtype=tf.int64, name=None))"
            ]
          },
          "metadata": {
            "tags": []
          },
          "execution_count": 24
        }
      ]
    },
    {
      "cell_type": "code",
      "metadata": {
        "colab": {
          "base_uri": "https://localhost:8080/"
        },
        "id": "i4n-v-Nyrxqk",
        "outputId": "efff797f-a14b-433f-e72a-69ede3c23ce2"
      },
      "source": [
        "# test data spec\n",
        "valid_data.element_spec"
      ],
      "execution_count": null,
      "outputs": [
        {
          "output_type": "execute_result",
          "data": {
            "text/plain": [
              "({'input_mask': TensorSpec(shape=(None, 128), dtype=tf.int32, name=None),\n",
              "  'input_type_ids': TensorSpec(shape=(None, 128), dtype=tf.int32, name=None),\n",
              "  'input_word_ids': TensorSpec(shape=(None, 128), dtype=tf.int32, name=None)},\n",
              " TensorSpec(shape=(None,), dtype=tf.int64, name=None))"
            ]
          },
          "metadata": {
            "tags": []
          },
          "execution_count": 25
        }
      ]
    },
    {
      "cell_type": "code",
      "metadata": {
        "colab": {
          "base_uri": "https://localhost:8080/"
        },
        "id": "d2Ia3S8tDGQI",
        "outputId": "f6819a0f-f89c-4d00-90c7-8ab2339898aa"
      },
      "source": [
        "train_data"
      ],
      "execution_count": null,
      "outputs": [
        {
          "output_type": "execute_result",
          "data": {
            "text/plain": [
              "<PrefetchDataset shapes: ({input_type_ids: (None, 128), input_word_ids: (None, 128), input_mask: (None, 128)}, (None,)), types: ({input_type_ids: tf.int32, input_word_ids: tf.int32, input_mask: tf.int32}, tf.int64)>"
            ]
          },
          "metadata": {
            "tags": []
          },
          "execution_count": 26
        }
      ]
    },
    {
      "cell_type": "markdown",
      "metadata": {
        "id": "sAo-aVM1p5Bw"
      },
      "source": [
        "### Step 9: Adding a Classification Head to the BERT `hub.KerasLayer`"
      ]
    },
    {
      "cell_type": "markdown",
      "metadata": {
        "id": "nJO4X0Bpp8Pr"
      },
      "source": [
        "<div align=\"right\">\n",
        "    <img width=\"512px\" src='https://drive.google.com/uc?id=1fnJTeJs5HUpz7nix-F9E6EZdgUflqyEu' />\n",
        "    <p style=\"text-align: center;color:gray\">Figure 3: BERT Layer</p>\n",
        "</div>"
      ]
    },
    {
      "cell_type": "code",
      "metadata": {
        "id": "vzGi68gSEup7"
      },
      "source": [
        "max_seq_length = 128\n",
        "\n",
        "# Building the model\n",
        "def create_model():\n",
        "  input_word_ids = tf.keras.layers.Input(shape=(max_seq_length,), dtype=tf.int32,\n",
        "                                         name = \"input_word_ids\")\n",
        "  input_mask = tf.keras.layers.Input(shape=(max_seq_length,), dtype=tf.int32,\n",
        "                                   name = \"input_mask\")\n",
        "  input_type_ids=tf.keras.layers.Input(shape=(max_seq_length,), dtype=tf.int32,\n",
        "                                       name = \"input_type_ids\")\n",
        "  \n",
        "  encoder_inputs = dict(input_word_ids = input_word_ids ,input_mask = input_mask,input_type_ids = input_type_ids  )\n",
        "  bert_layer = hub.KerasLayer(\"https://tfhub.dev/tensorflow/bert_en_uncased_L-12_H-768_A-12/4\" , trainable = True , name = 'encoder')\n",
        "  \n",
        "  outputs  = bert_layer(encoder_inputs)\n",
        "  sequence_output = outputs[\"sequence_output\"]  # [batch_size, seq_length, 768]      \n",
        "  \n",
        "  dense_layer = tf.keras.layers.GRU( 768, dropout=0.2, recurrent_dropout=0.2, name=\"dense\")(sequence_output)\n",
        "  output = tf.keras.layers.Dense(2, activation=None, name=\"output\")(dense_layer)\n",
        "\n",
        "  model = tf.keras.Model(\n",
        "      inputs={\n",
        "      'input_word_ids': input_word_ids,\n",
        "       'input_mask': input_mask,\n",
        "       'input_type_ids': input_type_ids\n",
        "  },\n",
        "      outputs=output)\n",
        "  return model\n"
      ],
      "execution_count": null,
      "outputs": []
    },
    {
      "cell_type": "code",
      "metadata": {
        "colab": {
          "base_uri": "https://localhost:8080/"
        },
        "id": "R6sZcxj4qKBI",
        "outputId": "70e4342a-00c9-4d07-fa49-0b6660733f74"
      },
      "source": [
        "test_classifier_model = create_model()\n",
        "bert_raw_result = test_classifier_model(text_preprocessed)\n",
        "tf.sigmoid(bert_raw_result)\n"
      ],
      "execution_count": null,
      "outputs": [
        {
          "output_type": "execute_result",
          "data": {
            "text/plain": [
              "<tf.Tensor: shape=(1, 2), dtype=float32, numpy=array([[0.4543134, 0.477527 ]], dtype=float32)>"
            ]
          },
          "metadata": {
            "tags": []
          },
          "execution_count": 28
        }
      ]
    },
    {
      "cell_type": "code",
      "metadata": {
        "colab": {
          "base_uri": "https://localhost:8080/"
        },
        "id": "aJ1au-dVqZOs",
        "outputId": "5dafecd8-fa6b-4e38-ab81-e59eb181095d"
      },
      "source": [
        "np.argmax(tf.sigmoid(bert_raw_result))"
      ],
      "execution_count": null,
      "outputs": [
        {
          "output_type": "execute_result",
          "data": {
            "text/plain": [
              "1"
            ]
          },
          "metadata": {
            "tags": []
          },
          "execution_count": 29
        }
      ]
    },
    {
      "cell_type": "code",
      "metadata": {
        "colab": {
          "base_uri": "https://localhost:8080/",
          "height": 369
        },
        "id": "iCRiOzQKqjcc",
        "outputId": "44c62e8b-f858-4752-ee44-abee9414f7b1"
      },
      "source": [
        "tf.keras.utils.plot_model(test_classifier_model)\n"
      ],
      "execution_count": null,
      "outputs": [
        {
          "output_type": "execute_result",
          "data": {
            "image/png": "[encoded data removed]",
            "text/plain": [
              "<IPython.core.display.Image object>"
            ]
          },
          "metadata": {
            "tags": []
          },
          "execution_count": 30
        }
      ]
    },
    {
      "cell_type": "code",
      "metadata": {
        "id": "8aYaZfs7qycM"
      },
      "source": [
        "# Setting configuration for model\n",
        "def get_configuration():\n",
        "\n",
        "  loss = loss = tf.keras.losses.SparseCategoricalCrossentropy(from_logits=True),\n",
        "\n",
        "  metric = tf.keras.metrics.SparseCategoricalAccuracy(\n",
        "        'accuracy', dtype=tf.float32)\n",
        "\n",
        "  return metric, loss"
      ],
      "execution_count": null,
      "outputs": []
    },
    {
      "cell_type": "markdown",
      "metadata": {
        "id": "N56l3umPrI9W"
      },
      "source": [
        "### Step 10: Fine-Tuning BERT for sentence pairs Classification\n",
        "### Optimizor\n",
        "\n",
        "For fine-tuning, let's use the same optimizer that BERT was originally trained with: the \"Adaptive Moments\" (Adam). This optimizer minimizes the prediction loss and does regularization by weight decay (not using moments), which is also known as [`AdamW`](https://arxiv.org/abs/1711.05101).\n",
        "\n",
        "For the learning rate (init_lr), we will use the same schedule as BERT pre-training: linear decay of a notional initial learning rate, prefixed with a linear warm-up phase over the first 10% of training steps (num_warmup_steps). In line with the BERT paper, the initial learning rate is smaller for fine-tuning (best of 5e-5, 3e-5, 2e-5). "
      ]
    },
    {
      "cell_type": "code",
      "metadata": {
        "id": "Fjrr0XhBrCOP"
      },
      "source": [
        "## Instantiating the model\n",
        "classifier_model = create_model()\n",
        "\n",
        "optimizer = optimization.create_optimizer(\n",
        "      init_lr=init_lr,\n",
        "      num_train_steps=num_train_steps,\n",
        "      num_warmup_steps=num_warmup_steps,\n",
        "      optimizer_type='adamw')\n"
      ],
      "execution_count": null,
      "outputs": []
    },
    {
      "cell_type": "code",
      "metadata": {
        "colab": {
          "base_uri": "https://localhost:8080/"
        },
        "id": "NlxKXrU6rMOG",
        "outputId": "4e825231-6ff0-43dd-e54f-66b46bf56eb0"
      },
      "source": [
        "# Compiling the model\n",
        "metric, loss = get_configuration()\n",
        "\n",
        "classifier_model.compile(optimizer=optimizer,\n",
        "              loss=loss,\n",
        "              metrics = metric)\n",
        "classifier_model.summary()"
      ],
      "execution_count": null,
      "outputs": [
        {
          "output_type": "stream",
          "text": [
            "Model: \"model_2\"\n",
            "__________________________________________________________________________________________________\n",
            "Layer (type)                    Output Shape         Param #     Connected to                     \n",
            "==================================================================================================\n",
            "input_mask (InputLayer)         [(None, 128)]        0                                            \n",
            "__________________________________________________________________________________________________\n",
            "input_type_ids (InputLayer)     [(None, 128)]        0                                            \n",
            "__________________________________________________________________________________________________\n",
            "input_word_ids (InputLayer)     [(None, 128)]        0                                            \n",
            "__________________________________________________________________________________________________\n",
            "encoder (KerasLayer)            {'encoder_outputs':  109482241   input_mask[0][0]                 \n",
            "                                                                 input_type_ids[0][0]             \n",
            "                                                                 input_word_ids[0][0]             \n",
            "__________________________________________________________________________________________________\n",
            "dense (GRU)                     (None, 768)          3543552     encoder[0][14]                   \n",
            "__________________________________________________________________________________________________\n",
            "output (Dense)                  (None, 2)            1538        dense[0][0]                      \n",
            "==================================================================================================\n",
            "Total params: 113,027,331\n",
            "Trainable params: 113,027,330\n",
            "Non-trainable params: 1\n",
            "__________________________________________________________________________________________________\n"
          ],
          "name": "stdout"
        }
      ]
    },
    {
      "cell_type": "code",
      "metadata": {
        "colab": {
          "base_uri": "https://localhost:8080/",
          "height": 227
        },
        "id": "8swYKxdPrRya",
        "outputId": "a093f19f-07d4-472f-c214-37c012cc5c64"
      },
      "source": [
        "tf.keras.utils.plot_model(model = classifier_model, show_shapes = True, dpi=76 )"
      ],
      "execution_count": null,
      "outputs": [
        {
          "output_type": "execute_result",
          "data": {
            "image/png": "[encoded data removed]",
            "text/plain": [
              "<IPython.core.display.Image object>"
            ]
          },
          "metadata": {
            "tags": []
          },
          "execution_count": 35
        }
      ]
    },
    {
      "cell_type": "code",
      "metadata": {
        "colab": {
          "base_uri": "https://localhost:8080/"
        },
        "id": "wBQoTPfqrW4H",
        "outputId": "5cf472fd-9adf-4a17-d65f-734bd5a3edd2"
      },
      "source": [
        "for text , labls in train_data.take(1):\n",
        "  print(labls)"
      ],
      "execution_count": null,
      "outputs": [
        {
          "output_type": "stream",
          "text": [
            "tf.Tensor([0 1 0 0 0 0 0 0 0 0 0 0 0 0 0 0 0 0 0 0 0 0 0 0 0 0 0 0 0 0 0 0], shape=(32,), dtype=int64)\n"
          ],
          "name": "stdout"
        }
      ]
    },
    {
      "cell_type": "code",
      "metadata": {
        "colab": {
          "base_uri": "https://localhost:8080/"
        },
        "id": "355PBDG-raBb",
        "outputId": "792161be-d41f-448d-bee7-1f041f67ca1b"
      },
      "source": [
        "# Training the model\n",
        "\n",
        "validation_steps = no_of_valid_examples // batch_size\n",
        "class_wgt = { 1:4.0, 0:1.0 }\n",
        "\n",
        "history = classifier_model.fit(\n",
        "      x=train_data,\n",
        "      validation_data=valid_data,\n",
        "      steps_per_epoch=steps_per_epoch,\n",
        "      epochs=epochs,\n",
        "      validation_steps=validation_steps,\n",
        "      class_weight = class_wgt)"
      ],
      "execution_count": null,
      "outputs": [
        {
          "output_type": "stream",
          "text": [
            "Epoch 1/4\n",
            "26/26 [==============================] - 53s 1s/step - loss: 1.0378 - accuracy: 0.7019 - val_loss: 0.4495 - val_accuracy: 0.8646\n",
            "Epoch 2/4\n",
            "26/26 [==============================] - 37s 1s/step - loss: 0.9393 - accuracy: 0.8197 - val_loss: 0.6032 - val_accuracy: 0.7396\n",
            "Epoch 3/4\n",
            "26/26 [==============================] - 37s 1s/step - loss: 0.7744 - accuracy: 0.8462 - val_loss: 0.5017 - val_accuracy: 0.8125\n",
            "Epoch 4/4\n",
            "26/26 [==============================] - 37s 1s/step - loss: 0.7061 - accuracy: 0.8510 - val_loss: 0.4995 - val_accuracy: 0.7708\n"
          ],
          "name": "stdout"
        }
      ]
    },
    {
      "cell_type": "markdown",
      "metadata": {
        "id": "OuULCTUdwcgy"
      },
      "source": [
        "### Step 11: Evaluating Model performance visually"
      ]
    },
    {
      "cell_type": "code",
      "metadata": {
        "id": "qXlssluYrfTb"
      },
      "source": [
        "import matplotlib.pyplot as plt\n",
        "\n",
        "def plot_graphs(history, metric):\n",
        "  plt.plot(history.history[metric])\n",
        "  plt.plot(history.history['val_'+metric], '')\n",
        "  plt.xlabel(\"Epochs\")\n",
        "  plt.ylabel(metric)\n",
        "  plt.legend([metric, 'val_'+metric])\n",
        "  plt.show()"
      ],
      "execution_count": null,
      "outputs": []
    },
    {
      "cell_type": "code",
      "metadata": {
        "colab": {
          "base_uri": "https://localhost:8080/",
          "height": 279
        },
        "id": "gt6eS6RcwkaW",
        "outputId": "5ad493e5-162d-4ca8-bc1e-3d6c6dfb455d"
      },
      "source": [
        "plot_graphs(history,'loss')"
      ],
      "execution_count": null,
      "outputs": [
        {
          "output_type": "display_data",
          "data": {
            "image/png": "[encoded data removed]",
            "text/plain": [
              "<Figure size 432x288 with 1 Axes>"
            ]
          },
          "metadata": {
            "tags": [],
            "needs_background": "light"
          }
        }
      ]
    },
    {
      "cell_type": "code",
      "metadata": {
        "colab": {
          "base_uri": "https://localhost:8080/",
          "height": 279
        },
        "id": "r2WAM8MmwmWo",
        "outputId": "fb707472-4f17-48c1-c55d-a1ba40e3b4e5"
      },
      "source": [
        "plot_graphs(history,'accuracy')"
      ],
      "execution_count": null,
      "outputs": [
        {
          "output_type": "display_data",
          "data": {
            "image/png": "[encoded data removed]",
            "text/plain": [
              "<Figure size 432x288 with 1 Axes>"
            ]
          },
          "metadata": {
            "tags": [],
            "needs_background": "light"
          }
        }
      ]
    },
    {
      "cell_type": "markdown",
      "metadata": {
        "id": "s-SJ8W7w9svA"
      },
      "source": [
        "### Step 12 : Exporting model for inference"
      ]
    },
    {
      "cell_type": "code",
      "metadata": {
        "colab": {
          "base_uri": "https://localhost:8080/"
        },
        "id": "Lrayzvgjwodv",
        "outputId": "ef5a239b-b544-4942-a8fa-f95b89a3db36"
      },
      "source": [
        "dataset_name = 'CRM/'\n",
        "main_save_path = './my_models_BERT'\n",
        "\n",
        "hub_bert_url = \"https://tfhub.dev/tensorflow/bert_en_uncased_L-12_H-768_A-12/4\"\n",
        "bert_type = hub_bert_url.split('/')[-2]\n",
        "saved_model_name = f'{dataset_name.replace(\"/\", \"_\")}_{bert_type}'\n",
        "print(hub_bert_url)\n",
        "print(bert_type)\n",
        "print(saved_model_name)\n",
        "\n",
        "saved_model_path = os.path.join(main_save_path, saved_model_name)\n",
        "print(saved_model_path)"
      ],
      "execution_count": null,
      "outputs": [
        {
          "output_type": "stream",
          "text": [
            "https://tfhub.dev/tensorflow/bert_en_uncased_L-12_H-768_A-12/4\n",
            "bert_en_uncased_L-12_H-768_A-12\n",
            "CRM__bert_en_uncased_L-12_H-768_A-12\n",
            "./my_models_BERT/CRM__bert_en_uncased_L-12_H-768_A-12\n"
          ],
          "name": "stdout"
        }
      ]
    },
    {
      "cell_type": "code",
      "metadata": {
        "colab": {
          "base_uri": "https://localhost:8080/"
        },
        "id": "6UOV-Fdzwxw8",
        "outputId": "604aaeea-1e7f-4179-cee4-f431882c544f"
      },
      "source": [
        "sentence_feature = str('Clean_text')\n",
        "bert_preprocess_model = make_bert_preprocess_model(sentence_feature)\n",
        "  \n",
        "bert_preprocess_model.inputs"
      ],
      "execution_count": null,
      "outputs": [
        {
          "output_type": "execute_result",
          "data": {
            "text/plain": [
              "[<KerasTensor: shape=(None,) dtype=string (created by layer 'Clean_text')>]"
            ]
          },
          "metadata": {
            "tags": []
          },
          "execution_count": 44
        }
      ]
    },
    {
      "cell_type": "code",
      "metadata": {
        "colab": {
          "base_uri": "https://localhost:8080/"
        },
        "id": "--mA59LtxS4N",
        "outputId": "0907f465-1b82-4c77-d9a0-3f10e2842d40"
      },
      "source": [
        "preprocess_inputs = bert_preprocess_model.inputs\n",
        "print(preprocess_inputs)\n",
        "bert_preprocess_model(preprocess_inputs)"
      ],
      "execution_count": null,
      "outputs": [
        {
          "output_type": "stream",
          "text": [
            "[<KerasTensor: shape=(None,) dtype=string (created by layer 'Clean_text')>]\n"
          ],
          "name": "stdout"
        },
        {
          "output_type": "execute_result",
          "data": {
            "text/plain": [
              "{'input_mask': <KerasTensor: shape=(None, 128) dtype=int32 (created by layer 'model_3')>,\n",
              " 'input_type_ids': <KerasTensor: shape=(None, 128) dtype=int32 (created by layer 'model_3')>,\n",
              " 'input_word_ids': <KerasTensor: shape=(None, 128) dtype=int32 (created by layer 'model_3')>}"
            ]
          },
          "metadata": {
            "tags": []
          },
          "execution_count": 45
        }
      ]
    },
    {
      "cell_type": "code",
      "metadata": {
        "colab": {
          "base_uri": "https://localhost:8080/"
        },
        "id": "Iesyh8R6xtaR",
        "outputId": "2f0ccfc0-eea3-4f59-a32a-2fc2c56d1bb9"
      },
      "source": [
        "bert_encoder_inputs = bert_preprocess_model(preprocess_inputs)\n",
        "classifier_model(bert_encoder_inputs)"
      ],
      "execution_count": null,
      "outputs": [
        {
          "output_type": "execute_result",
          "data": {
            "text/plain": [
              "<KerasTensor: shape=(None, 2) dtype=float32 (created by layer 'model_2')>"
            ]
          },
          "metadata": {
            "tags": []
          },
          "execution_count": 46
        }
      ]
    },
    {
      "cell_type": "code",
      "metadata": {
        "colab": {
          "base_uri": "https://localhost:8080/",
          "height": 250
        },
        "id": "pDFe8b5KxxmH",
        "outputId": "ec41deeb-7c36-4ab0-aaf1-2532a3f9e057"
      },
      "source": [
        "# Merging both preprocessor and BERT model for inference\n",
        "# As we can see in below plot the model can directly handle raw inputs and shows final results\n",
        "\n",
        "bert_outputs = classifier_model(bert_encoder_inputs)\n",
        "model_for_export = tf.keras.Model(preprocess_inputs, bert_outputs)\n",
        "tf.keras.utils.plot_model(model = model_for_export, show_shapes = True, dpi=76 )"
      ],
      "execution_count": null,
      "outputs": [
        {
          "output_type": "execute_result",
          "data": {
            "image/png": "[encoded data removed]",
            "text/plain": [
              "<IPython.core.display.Image object>"
            ]
          },
          "metadata": {
            "tags": []
          },
          "execution_count": 47
        }
      ]
    },
    {
      "cell_type": "code",
      "metadata": {
        "colab": {
          "base_uri": "https://localhost:8080/"
        },
        "id": "gTLjMn9VVkdv",
        "outputId": "40169852-a969-4c4d-c9e7-b34911a2b944"
      },
      "source": [
        "%cd /content/gdrive/MyDrive/Colab DataSets/"
      ],
      "execution_count": null,
      "outputs": [
        {
          "output_type": "stream",
          "text": [
            "/content/gdrive/MyDrive/Colab DataSets\n"
          ],
          "name": "stdout"
        }
      ]
    },
    {
      "cell_type": "code",
      "metadata": {
        "colab": {
          "base_uri": "https://localhost:8080/"
        },
        "id": "Ef9hUi7uVmPq",
        "outputId": "27bc6206-4081-4d78-a5e8-1bebce952231"
      },
      "source": [
        "%ls"
      ],
      "execution_count": null,
      "outputs": [
        {
          "output_type": "stream",
          "text": [
            " abcnews-date-text.csv   data_lm.pkl                \u001b[0m\u001b[01;34mmodels\u001b[0m/\n",
            " clean_data.pkl          deu.txt                    queries.txt\n",
            " Clean_encoded.txt       english-german.pkl        'sample_test[1].txt'\n",
            " CRM_updated_test.txt    english-german-test.pkl    socrates_sequences.txt\n",
            " CRM_updated_train.txt   english-german-train.pkl   socrates.txt\n",
            " CRM_updated.txt         fake_news_train.csv\n",
            " data_clas.pkl           model.png\n"
          ],
          "name": "stdout"
        }
      ]
    },
    {
      "cell_type": "code",
      "metadata": {
        "colab": {
          "base_uri": "https://localhost:8080/"
        },
        "id": "C_ehyccgx4yf",
        "outputId": "23f6f9c4-5995-4817-b698-8daa61fa87cb"
      },
      "source": [
        "main_save_path = './my_models_BERT_2'\n",
        "bert_type = hub_bert_url.split('/')[-2]\n",
        "saved_model_name = f'{dataset_name.replace(\"/\", \"_\")}_{bert_type}'\n",
        "\n",
        "saved_model_path = os.path.join(main_save_path, saved_model_name)\n",
        "\n",
        "preprocess_inputs = bert_preprocess_model.inputs\n",
        "bert_encoder_inputs = bert_preprocess_model(preprocess_inputs)\n",
        "bert_outputs = classifier_model(bert_encoder_inputs)\n",
        "model_for_export = tf.keras.Model(preprocess_inputs, bert_outputs)\n",
        "\n",
        "print('Saving', saved_model_path)\n",
        "\n",
        "# Save everything on the Colab host (even the variables from GPU memory)\n",
        "save_options = tf.saved_model.SaveOptions(experimental_io_device='')\n",
        "model_for_export.save(saved_model_path, include_optimizer=False,\n",
        "                      options=save_options)"
      ],
      "execution_count": null,
      "outputs": [
        {
          "output_type": "stream",
          "text": [
            "Saving ./my_models_BERT/CRM__bert_en_uncased_L-12_H-768_A-12\n"
          ],
          "name": "stdout"
        },
        {
          "output_type": "stream",
          "text": [
            "WARNING:absl:Function `_wrapped_model` contains input name(s) Clean_text with unsupported characters which will be renamed to clean_text in the SavedModel.\n",
            "WARNING:absl:Found untraced functions such as restored_function_body, restored_function_body, restored_function_body, restored_function_body, restored_function_body while saving (showing 5 of 915). These functions will not be directly callable after loading.\n"
          ],
          "name": "stderr"
        }
      ]
    },
    {
      "cell_type": "markdown",
      "metadata": {
        "id": "EtHKijAG9zZj"
      },
      "source": [
        "### Step 13 : Testing our BERT Model"
      ]
    },
    {
      "cell_type": "code",
      "metadata": {
        "id": "N-k77_kzx-gj"
      },
      "source": [
        "reloaded_model = tf.saved_model.load(saved_model_path)\n"
      ],
      "execution_count": null,
      "outputs": []
    },
    {
      "cell_type": "code",
      "metadata": {
        "colab": {
          "base_uri": "https://localhost:8080/"
        },
        "id": "lYWbEC3-zwh9",
        "outputId": "6d1c5ba4-9c13-4002-e8e6-5eced94f77b0"
      },
      "source": [
        "test_text = [\"prema share detail experience i tableau want demo saturday prema share detail seminar\"]\n",
        "actual_label = [1]\n",
        "\n",
        "results = reloaded_model(test_text)\n",
        "actual = np.argmax(tf.sigmoid(results))\n",
        "print(\" Model results :\", results)\n",
        "print(\" Class :\", actual)"
      ],
      "execution_count": null,
      "outputs": [
        {
          "output_type": "stream",
          "text": [
            " Model results : tf.Tensor([[ 0.09372946 -0.5627309 ]], shape=(1, 2), dtype=float32)\n",
            " Class : 0\n"
          ],
          "name": "stdout"
        }
      ]
    },
    {
      "cell_type": "code",
      "metadata": {
        "id": "tjLfRMne0mUZ",
        "colab": {
          "base_uri": "https://localhost:8080/",
          "height": 35
        },
        "outputId": "cbac2271-b1da-42a9-bc73-3f23b52a841d"
      },
      "source": [
        "saved_model_path"
      ],
      "execution_count": null,
      "outputs": [
        {
          "output_type": "execute_result",
          "data": {
            "application/vnd.google.colaboratory.intrinsic+json": {
              "type": "string"
            },
            "text/plain": [
              "'./my_models_BERT/CRM__bert_en_uncased_L-12_H-768_A-12'"
            ]
          },
          "metadata": {
            "tags": []
          },
          "execution_count": 52
        }
      ]
    },
    {
      "cell_type": "code",
      "metadata": {
        "id": "plCNPcQk4yFJ"
      },
      "source": [
        ""
      ],
      "execution_count": null,
      "outputs": []
    }
  ]
}